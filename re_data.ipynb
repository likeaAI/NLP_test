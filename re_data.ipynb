{
 "cells": [
  {
   "cell_type": "code",
   "execution_count": 1,
   "id": "11551f9e",
   "metadata": {},
   "outputs": [],
   "source": [
    "import numpy as np \n",
    "import pandas as pd \n",
    "import re\n",
    "\n",
    "from time import sleep\n",
    "import time as time\n"
   ]
  },
  {
   "cell_type": "code",
   "execution_count": 3,
   "id": "a21d64c1",
   "metadata": {},
   "outputs": [],
   "source": [
    "sample_data = pd.read_csv('c:/users/crid2/nl_test/news_headline_total.csv' ,header=None)"
   ]
  },
  {
   "cell_type": "code",
   "execution_count": 4,
   "id": "66cf0b89",
   "metadata": {},
   "outputs": [],
   "source": [
    "news_title= sample_data.T\n",
    "news_title.columns = ['title'] \n",
    "news_title['label'] = 0 \n",
    "news_title.to_csv('new_sample.csv')\n"
   ]
  },
  {
   "cell_type": "code",
   "execution_count": 6,
   "id": "c7ff30de",
   "metadata": {},
   "outputs": [
    {
     "data": {
      "text/html": [
       "<div>\n",
       "<style scoped>\n",
       "    .dataframe tbody tr th:only-of-type {\n",
       "        vertical-align: middle;\n",
       "    }\n",
       "\n",
       "    .dataframe tbody tr th {\n",
       "        vertical-align: top;\n",
       "    }\n",
       "\n",
       "    .dataframe thead th {\n",
       "        text-align: right;\n",
       "    }\n",
       "</style>\n",
       "<table border=\"1\" class=\"dataframe\">\n",
       "  <thead>\n",
       "    <tr style=\"text-align: right;\">\n",
       "      <th></th>\n",
       "      <th>title</th>\n",
       "      <th>label</th>\n",
       "    </tr>\n",
       "  </thead>\n",
       "  <tbody>\n",
       "    <tr>\n",
       "      <th>0</th>\n",
       "      <td>[아이넷 AI 로봇 기자] 특징주, 무림페이퍼-제지 테마 상승세에 10.4% 상승</td>\n",
       "      <td>0</td>\n",
       "    </tr>\n",
       "    <tr>\n",
       "      <th>1</th>\n",
       "      <td>[아이넷 AI 로봇 기자] 특징주, 영풍제지-골판지 제조 테마 상승세에 28.29% 상승</td>\n",
       "      <td>0</td>\n",
       "    </tr>\n",
       "    <tr>\n",
       "      <th>2</th>\n",
       "      <td>[아이넷 AI 로봇 기자] 특징주, 깨끗한나라-제지 테마 상승세에 5.65% 상승</td>\n",
       "      <td>0</td>\n",
       "    </tr>\n",
       "    <tr>\n",
       "      <th>3</th>\n",
       "      <td>[아이넷 AI 로봇 기자] 특징주, 신풍제지-제지 테마 상승세에 20.43% 상승</td>\n",
       "      <td>0</td>\n",
       "    </tr>\n",
       "    <tr>\n",
       "      <th>4</th>\n",
       "      <td>\"한섬, 업황 회복으로 실적 모멘텀 지속\"...비중확대는 DSR무관 야호스탁 상품으로</td>\n",
       "      <td>0</td>\n",
       "    </tr>\n",
       "    <tr>\n",
       "      <th>...</th>\n",
       "      <td>...</td>\n",
       "      <td>...</td>\n",
       "    </tr>\n",
       "    <tr>\n",
       "      <th>24970</th>\n",
       "      <td>[아이넷 AI 로봇 기자] 디오 '디지털 임플란트는 디오!' 증권사 발표에 강세…3.8%</td>\n",
       "      <td>0</td>\n",
       "    </tr>\n",
       "    <tr>\n",
       "      <th>24971</th>\n",
       "      <td>[아이넷 AI 로봇 기자] 에스트래픽(234300), 인천국제공항공사와 71.5억원...</td>\n",
       "      <td>0</td>\n",
       "    </tr>\n",
       "    <tr>\n",
       "      <th>24972</th>\n",
       "      <td>미래에셋자산운용, 글로벌 테마형 ETF 신규 상장 이벤트</td>\n",
       "      <td>0</td>\n",
       "    </tr>\n",
       "    <tr>\n",
       "      <th>24973</th>\n",
       "      <td>메디아나, 2분기 영업익 18.5억원…2분기 연속 흑자 행진</td>\n",
       "      <td>0</td>\n",
       "    </tr>\n",
       "    <tr>\n",
       "      <th>24974</th>\n",
       "      <td>두산중공업, 미 뉴스케일파워에 추가 투자…소형모듈원전 사업 협력 강화</td>\n",
       "      <td>0</td>\n",
       "    </tr>\n",
       "  </tbody>\n",
       "</table>\n",
       "<p>24975 rows × 2 columns</p>\n",
       "</div>"
      ],
      "text/plain": [
       "                                                   title  label\n",
       "0          [아이넷 AI 로봇 기자] 특징주, 무림페이퍼-제지 테마 상승세에 10.4% 상승      0\n",
       "1      [아이넷 AI 로봇 기자] 특징주, 영풍제지-골판지 제조 테마 상승세에 28.29% 상승      0\n",
       "2          [아이넷 AI 로봇 기자] 특징주, 깨끗한나라-제지 테마 상승세에 5.65% 상승      0\n",
       "3          [아이넷 AI 로봇 기자] 특징주, 신풍제지-제지 테마 상승세에 20.43% 상승      0\n",
       "4        \"한섬, 업황 회복으로 실적 모멘텀 지속\"...비중확대는 DSR무관 야호스탁 상품으로      0\n",
       "...                                                  ...    ...\n",
       "24970  [아이넷 AI 로봇 기자] 디오 '디지털 임플란트는 디오!' 증권사 발표에 강세…3.8%      0\n",
       "24971  [아이넷 AI 로봇 기자] 에스트래픽(234300), 인천국제공항공사와 71.5억원...      0\n",
       "24972                    미래에셋자산운용, 글로벌 테마형 ETF 신규 상장 이벤트      0\n",
       "24973                  메디아나, 2분기 영업익 18.5억원…2분기 연속 흑자 행진      0\n",
       "24974             두산중공업, 미 뉴스케일파워에 추가 투자…소형모듈원전 사업 협력 강화      0\n",
       "\n",
       "[24975 rows x 2 columns]"
      ]
     },
     "execution_count": 6,
     "metadata": {},
     "output_type": "execute_result"
    }
   ],
   "source": [
    "news_title = news_title.replace(['↑\\s*', '↓\\s*']  ,  ['상승' , '하락'], regex=True)\n",
    "news_title"
   ]
  },
  {
   "cell_type": "code",
   "execution_count": 7,
   "id": "c3bb429a",
   "metadata": {},
   "outputs": [],
   "source": [
    "# (df.index[df['B'] == 19].tolist())  데이터 전처리용 삭제할 index 추출 \n",
    "\n",
    "\n",
    "# idx2 = news_title.index[news_title['title'].str.contains('[부고]')]\n",
    "# news_title = news_title.drop(idx2)\n",
    "\n",
    "# idx3 = news_title.index[news_title['title'].str.contains('[게시판]')]\n",
    "# news_title = news_title.drop(idx3)\n",
    "\n",
    "# idx4 = news_title.index[news_title['title'].str.contains('[증시신상품]')]\n",
    "# news_title = news_title.drop(idx4)\n",
    "\n",
    "# idx5 = news_title.index[news_title['title'].str.contains('[유가증권시장 공시]')]\n",
    "# news_title = news_title.drop(idx5)\n",
    "\n",
    "# idx6 = news_title.index[news_title['title'].str.contains('[인사]')]\n",
    "# news_title = news_title.drop(idx6)\n",
    "\n",
    "# idx7 = news_title.index[news_title['title'].str.contains('[M&A 매물장터]')]\n",
    "# news_title = news_title.drop(idx7)\n",
    "\n",
    "# idx8 = news_title.index[news_title['title'].str.contains('[포토]')]\n",
    "# news_title = news_title.drop(idx8)\n",
    "\n",
    "# idx9 = news_title.index[news_title['title'].str.contains('[증시신상품]')]\n",
    "# news_title = news_title.drop(idx9)\n",
    "\n",
    "# idx10 = news_title.index[news_title['title'].str.contains('[공모주 인사이드]')]\n",
    "# news_title = news_title.drop(idx10)\n",
    "\n",
    "# idx11 = news_title.index[news_title['title'].str.contains('[장마감 이슈]')]\n",
    "# news_title = news_title.drop(idx11)\n",
    "\n",
    "# idx12 = news_title.index[news_title['title'].str.contains('[AI 개장전 분석]')]\n",
    "# news_title = news_title.drop(idx12)\n",
    "\n"
   ]
  },
  {
   "cell_type": "code",
   "execution_count": 8,
   "id": "9e57c9f9",
   "metadata": {},
   "outputs": [
    {
     "name": "stderr",
     "output_type": "stream",
     "text": [
      "C:\\Users\\crid2\\anaconda3\\lib\\site-packages\\pandas\\core\\strings\\accessor.py:1214: FutureWarning: Possible nested set at position 1\n",
      "  if regex and re.compile(pat).groups:\n"
     ]
    }
   ],
   "source": [
    "idx0 = news_title.index[(news_title['title'].str.contains('아이넷')) | (news_title['title'].str.contains(r'[[표]]') )]\n",
    "news_title = news_title.drop(idx0)"
   ]
  },
  {
   "cell_type": "code",
   "execution_count": 9,
   "id": "bf59ac1e",
   "metadata": {},
   "outputs": [
    {
     "name": "stderr",
     "output_type": "stream",
     "text": [
      "C:\\Users\\crid2\\anaconda3\\lib\\site-packages\\pandas\\core\\strings\\accessor.py:1214: FutureWarning: Possible nested set at position 1\n",
      "  if regex and re.compile(pat).groups:\n"
     ]
    }
   ],
   "source": [
    "idx2 = news_title.index[news_title['title'].str.contains(r'[[부고]]')]\n",
    "news_title = news_title.drop(idx2)"
   ]
  },
  {
   "cell_type": "code",
   "execution_count": 10,
   "id": "c41179bc",
   "metadata": {},
   "outputs": [
    {
     "name": "stderr",
     "output_type": "stream",
     "text": [
      "C:\\Users\\crid2\\anaconda3\\lib\\site-packages\\pandas\\core\\strings\\accessor.py:1214: FutureWarning: Possible nested set at position 1\n",
      "  if regex and re.compile(pat).groups:\n"
     ]
    }
   ],
   "source": [
    "idx3 = news_title.index[news_title['title'].str.contains(r'[[게시판]]')]\n",
    "news_title = news_title.drop(idx3)"
   ]
  },
  {
   "cell_type": "code",
   "execution_count": 11,
   "id": "ec6a40d4",
   "metadata": {},
   "outputs": [
    {
     "name": "stderr",
     "output_type": "stream",
     "text": [
      "C:\\Users\\crid2\\anaconda3\\lib\\site-packages\\pandas\\core\\strings\\accessor.py:1214: FutureWarning: Possible nested set at position 1\n",
      "  if regex and re.compile(pat).groups:\n"
     ]
    }
   ],
   "source": [
    "idx4 = news_title.index[news_title['title'].str.contains(r'[[증시신상품]]')]\n",
    "news_title = news_title.drop(idx4)"
   ]
  },
  {
   "cell_type": "code",
   "execution_count": 12,
   "id": "496fce52",
   "metadata": {},
   "outputs": [
    {
     "name": "stderr",
     "output_type": "stream",
     "text": [
      "C:\\Users\\crid2\\anaconda3\\lib\\site-packages\\pandas\\core\\strings\\accessor.py:1214: FutureWarning: Possible nested set at position 1\n",
      "  if regex and re.compile(pat).groups:\n"
     ]
    }
   ],
   "source": [
    "idx5 = news_title.index[news_title['title'].str.contains(r'[[유가증권시장 공시]]')]\n",
    "news_title = news_title.drop(idx5)"
   ]
  },
  {
   "cell_type": "code",
   "execution_count": 13,
   "id": "98fc164a",
   "metadata": {},
   "outputs": [
    {
     "name": "stderr",
     "output_type": "stream",
     "text": [
      "C:\\Users\\crid2\\anaconda3\\lib\\site-packages\\pandas\\core\\strings\\accessor.py:1214: FutureWarning: Possible nested set at position 1\n",
      "  if regex and re.compile(pat).groups:\n"
     ]
    }
   ],
   "source": [
    "idx6 = news_title.index[news_title['title'].str.contains(r'[[인사]]')]\n",
    "news_title = news_title.drop(idx6)\n"
   ]
  },
  {
   "cell_type": "code",
   "execution_count": 14,
   "id": "0d4175d7",
   "metadata": {},
   "outputs": [
    {
     "name": "stderr",
     "output_type": "stream",
     "text": [
      "C:\\Users\\crid2\\anaconda3\\lib\\site-packages\\pandas\\core\\strings\\accessor.py:1214: FutureWarning: Possible nested set at position 1\n",
      "  if regex and re.compile(pat).groups:\n"
     ]
    }
   ],
   "source": [
    "idx7 = news_title.index[news_title['title'].str.contains(r'[[M&A 매물장터]]')]\n",
    "news_title = news_title.drop(idx7)"
   ]
  },
  {
   "cell_type": "code",
   "execution_count": 15,
   "id": "cc0c7f12",
   "metadata": {},
   "outputs": [
    {
     "name": "stderr",
     "output_type": "stream",
     "text": [
      "C:\\Users\\crid2\\anaconda3\\lib\\site-packages\\pandas\\core\\strings\\accessor.py:1214: FutureWarning: Possible nested set at position 1\n",
      "  if regex and re.compile(pat).groups:\n"
     ]
    }
   ],
   "source": [
    "idx8 = news_title.index[news_title['title'].str.contains(r'[[포토]]')]\n",
    "news_title = news_title.drop(idx8)"
   ]
  },
  {
   "cell_type": "code",
   "execution_count": 16,
   "id": "911216a0",
   "metadata": {},
   "outputs": [],
   "source": [
    "idx9 = news_title.index[news_title['title'].str.contains(r'[[증시신상품]]')]\n",
    "news_title = news_title.drop(idx9)"
   ]
  },
  {
   "cell_type": "code",
   "execution_count": 17,
   "id": "4d7b71e2",
   "metadata": {},
   "outputs": [
    {
     "name": "stderr",
     "output_type": "stream",
     "text": [
      "C:\\Users\\crid2\\anaconda3\\lib\\site-packages\\pandas\\core\\strings\\accessor.py:1214: FutureWarning: Possible nested set at position 1\n",
      "  if regex and re.compile(pat).groups:\n"
     ]
    }
   ],
   "source": [
    "idx10 = news_title.index[news_title['title'].str.contains(r'[[공모주 인사이드]]')]\n",
    "news_title = news_title.drop(idx10)"
   ]
  },
  {
   "cell_type": "code",
   "execution_count": 18,
   "id": "3d627156",
   "metadata": {},
   "outputs": [
    {
     "name": "stderr",
     "output_type": "stream",
     "text": [
      "C:\\Users\\crid2\\anaconda3\\lib\\site-packages\\pandas\\core\\strings\\accessor.py:1214: FutureWarning: Possible nested set at position 1\n",
      "  if regex and re.compile(pat).groups:\n"
     ]
    }
   ],
   "source": [
    "idx11 = news_title.index[news_title['title'].str.contains(r'[[장마감 이슈]]')]\n",
    "news_title = news_title.drop(idx11)"
   ]
  },
  {
   "cell_type": "code",
   "execution_count": 19,
   "id": "9b37e232",
   "metadata": {},
   "outputs": [
    {
     "name": "stderr",
     "output_type": "stream",
     "text": [
      "C:\\Users\\crid2\\anaconda3\\lib\\site-packages\\pandas\\core\\strings\\accessor.py:1214: FutureWarning: Possible nested set at position 1\n",
      "  if regex and re.compile(pat).groups:\n"
     ]
    }
   ],
   "source": [
    "idx12 = news_title.index[news_title['title'].str.contains(r'[[AI 개장전 분석]]')]\n",
    "news_title = news_title.drop(idx12)"
   ]
  },
  {
   "cell_type": "code",
   "execution_count": 20,
   "id": "58b0cea1",
   "metadata": {},
   "outputs": [],
   "source": [
    "idx13 = news_title.index[(news_title['title'].str.contains('오늘의')) | (news_title['title'].str.contains('이 상품'))]\n",
    "news_title = news_title.drop(idx13)"
   ]
  },
  {
   "cell_type": "code",
   "execution_count": 21,
   "id": "b691d14a",
   "metadata": {},
   "outputs": [],
   "source": [
    "# 라벨 사전처리 작업 (상승, 오른 , 흑자 , 최대 실적  , 최대실적 , 순매수 , 매수 , 고성장 , 반등 , 기대 , 증가 )\n",
    "\n",
    "# 폭락, 기대이하 감소 "
   ]
  },
  {
   "cell_type": "code",
   "execution_count": 22,
   "id": "b237fa12",
   "metadata": {},
   "outputs": [],
   "source": [
    "up_stock_word = news_title.index[(news_title['title'].str.contains('상승')) | (news_title['title'].str.contains('오른'))| (news_title['title'].str.contains('흑자'))\n",
    "                        | (news_title['title'].str.contains('최대실적'))| (news_title['title'].str.contains('최대 실적'))| (news_title['title'].str.contains('순매수'))\n",
    "                        | (news_title['title'].str.contains('매수'))| (news_title['title'].str.contains('고성장'))| (news_title['title'].str.contains('반등'))| (news_title['title'].str.contains('기대'))\n",
    "                        | (news_title['title'].str.contains('증가'))\n",
    "                        | (news_title['title'].str.contains('상향'))].values\n",
    "\n",
    "\n"
   ]
  },
  {
   "cell_type": "code",
   "execution_count": 23,
   "id": "de89de93",
   "metadata": {},
   "outputs": [
    {
     "name": "stderr",
     "output_type": "stream",
     "text": [
      "C:\\Users\\crid2\\AppData\\Local\\Temp\\ipykernel_216\\505068254.py:2: SettingWithCopyWarning: \n",
      "A value is trying to be set on a copy of a slice from a DataFrame\n",
      "\n",
      "See the caveats in the documentation: https://pandas.pydata.org/pandas-docs/stable/user_guide/indexing.html#returning-a-view-versus-a-copy\n",
      "  news_title['label'][i] = 1\n"
     ]
    }
   ],
   "source": [
    "for i in up_stock_word : \n",
    "    news_title['label'][i] = 1 \n",
    "    \n"
   ]
  },
  {
   "cell_type": "code",
   "execution_count": 24,
   "id": "fac8675d",
   "metadata": {},
   "outputs": [
    {
     "data": {
      "text/html": [
       "<div>\n",
       "<style scoped>\n",
       "    .dataframe tbody tr th:only-of-type {\n",
       "        vertical-align: middle;\n",
       "    }\n",
       "\n",
       "    .dataframe tbody tr th {\n",
       "        vertical-align: top;\n",
       "    }\n",
       "\n",
       "    .dataframe thead th {\n",
       "        text-align: right;\n",
       "    }\n",
       "</style>\n",
       "<table border=\"1\" class=\"dataframe\">\n",
       "  <thead>\n",
       "    <tr style=\"text-align: right;\">\n",
       "      <th></th>\n",
       "      <th>title</th>\n",
       "      <th>label</th>\n",
       "    </tr>\n",
       "  </thead>\n",
       "  <tbody>\n",
       "    <tr>\n",
       "      <th>4</th>\n",
       "      <td>\"한섬, 업황 회복으로 실적 모멘텀 지속\"...비중확대는 DSR무관 야호스탁 상품으로</td>\n",
       "      <td>0</td>\n",
       "    </tr>\n",
       "    <tr>\n",
       "      <th>6</th>\n",
       "      <td>데브시스터즈 1분기 영업이익 94억원…작년 동기 대비 60.2%하락</td>\n",
       "      <td>0</td>\n",
       "    </tr>\n",
       "    <tr>\n",
       "      <th>7</th>\n",
       "      <td>\"호텔·상가 리츠, 리오프닝 기대\"...대비는 DSR무관 골드스탁 재원으로</td>\n",
       "      <td>1</td>\n",
       "    </tr>\n",
       "    <tr>\n",
       "      <th>8</th>\n",
       "      <td>파멥신, 제프리스 헬스케어 컨퍼런스 초청 참석</td>\n",
       "      <td>0</td>\n",
       "    </tr>\n",
       "    <tr>\n",
       "      <th>9</th>\n",
       "      <td>한화자산운용, 세계 최초 대체자산 전반에 투자하는 ETF 상장</td>\n",
       "      <td>0</td>\n",
       "    </tr>\n",
       "    <tr>\n",
       "      <th>...</th>\n",
       "      <td>...</td>\n",
       "      <td>...</td>\n",
       "    </tr>\n",
       "    <tr>\n",
       "      <th>24964</th>\n",
       "      <td>[코스피] 11.34p(0.35%) 내린 3,232.70(장종료)</td>\n",
       "      <td>0</td>\n",
       "    </tr>\n",
       "    <tr>\n",
       "      <th>24965</th>\n",
       "      <td>[코스닥] 6.19p(0.59%) 내린 1,043.64(장종료)</td>\n",
       "      <td>0</td>\n",
       "    </tr>\n",
       "    <tr>\n",
       "      <th>24972</th>\n",
       "      <td>미래에셋자산운용, 글로벌 테마형 ETF 신규 상장 이벤트</td>\n",
       "      <td>0</td>\n",
       "    </tr>\n",
       "    <tr>\n",
       "      <th>24973</th>\n",
       "      <td>메디아나, 2분기 영업익 18.5억원…2분기 연속 흑자 행진</td>\n",
       "      <td>1</td>\n",
       "    </tr>\n",
       "    <tr>\n",
       "      <th>24974</th>\n",
       "      <td>두산중공업, 미 뉴스케일파워에 추가 투자…소형모듈원전 사업 협력 강화</td>\n",
       "      <td>0</td>\n",
       "    </tr>\n",
       "  </tbody>\n",
       "</table>\n",
       "<p>11051 rows × 2 columns</p>\n",
       "</div>"
      ],
      "text/plain": [
       "                                                 title  label\n",
       "4      \"한섬, 업황 회복으로 실적 모멘텀 지속\"...비중확대는 DSR무관 야호스탁 상품으로      0\n",
       "6                데브시스터즈 1분기 영업이익 94억원…작년 동기 대비 60.2%하락      0\n",
       "7            \"호텔·상가 리츠, 리오프닝 기대\"...대비는 DSR무관 골드스탁 재원으로      1\n",
       "8                            파멥신, 제프리스 헬스케어 컨퍼런스 초청 참석      0\n",
       "9                   한화자산운용, 세계 최초 대체자산 전반에 투자하는 ETF 상장      0\n",
       "...                                                ...    ...\n",
       "24964             [코스피] 11.34p(0.35%) 내린 3,232.70(장종료)      0\n",
       "24965              [코스닥] 6.19p(0.59%) 내린 1,043.64(장종료)      0\n",
       "24972                  미래에셋자산운용, 글로벌 테마형 ETF 신규 상장 이벤트      0\n",
       "24973                메디아나, 2분기 영업익 18.5억원…2분기 연속 흑자 행진      1\n",
       "24974           두산중공업, 미 뉴스케일파워에 추가 투자…소형모듈원전 사업 협력 강화      0\n",
       "\n",
       "[11051 rows x 2 columns]"
      ]
     },
     "execution_count": 24,
     "metadata": {},
     "output_type": "execute_result"
    }
   ],
   "source": [
    "news_title"
   ]
  },
  {
   "cell_type": "code",
   "execution_count": 27,
   "id": "a5cb7577",
   "metadata": {},
   "outputs": [],
   "source": [
    "news_title = news_title.reset_index(drop=True)\n"
   ]
  },
  {
   "cell_type": "code",
   "execution_count": 28,
   "id": "39074f7c",
   "metadata": {},
   "outputs": [],
   "source": [
    "news_title.to_csv('test01.csv')"
   ]
  },
  {
   "cell_type": "code",
   "execution_count": null,
   "id": "056b21fe",
   "metadata": {},
   "outputs": [],
   "source": []
  },
  {
   "cell_type": "code",
   "execution_count": null,
   "id": "a2e9e2dc",
   "metadata": {},
   "outputs": [],
   "source": []
  },
  {
   "cell_type": "code",
   "execution_count": 32,
   "id": "b03761b8",
   "metadata": {},
   "outputs": [
    {
     "data": {
      "text/html": [
       "<div>\n",
       "<style scoped>\n",
       "    .dataframe tbody tr th:only-of-type {\n",
       "        vertical-align: middle;\n",
       "    }\n",
       "\n",
       "    .dataframe tbody tr th {\n",
       "        vertical-align: top;\n",
       "    }\n",
       "\n",
       "    .dataframe thead th {\n",
       "        text-align: right;\n",
       "    }\n",
       "</style>\n",
       "<table border=\"1\" class=\"dataframe\">\n",
       "  <thead>\n",
       "    <tr style=\"text-align: right;\">\n",
       "      <th></th>\n",
       "      <th>title</th>\n",
       "    </tr>\n",
       "    <tr>\n",
       "      <th>label</th>\n",
       "      <th></th>\n",
       "    </tr>\n",
       "  </thead>\n",
       "  <tbody>\n",
       "    <tr>\n",
       "      <th>0</th>\n",
       "      <td>8133</td>\n",
       "    </tr>\n",
       "    <tr>\n",
       "      <th>1</th>\n",
       "      <td>2918</td>\n",
       "    </tr>\n",
       "  </tbody>\n",
       "</table>\n",
       "</div>"
      ],
      "text/plain": [
       "       title\n",
       "label       \n",
       "0       8133\n",
       "1       2918"
      ]
     },
     "execution_count": 32,
     "metadata": {},
     "output_type": "execute_result"
    }
   ],
   "source": [
    "news_title.groupby(by='label').count()"
   ]
  },
  {
   "cell_type": "code",
   "execution_count": null,
   "id": "91b88bf2",
   "metadata": {},
   "outputs": [],
   "source": []
  },
  {
   "cell_type": "code",
   "execution_count": null,
   "id": "87160212",
   "metadata": {},
   "outputs": [],
   "source": []
  },
  {
   "cell_type": "code",
   "execution_count": null,
   "id": "5e064b08",
   "metadata": {},
   "outputs": [],
   "source": []
  },
  {
   "cell_type": "code",
   "execution_count": null,
   "id": "e3c0dc2a",
   "metadata": {},
   "outputs": [],
   "source": []
  },
  {
   "cell_type": "code",
   "execution_count": null,
   "id": "7948db64",
   "metadata": {},
   "outputs": [],
   "source": []
  }
 ],
 "metadata": {
  "kernelspec": {
   "display_name": "tensor01",
   "language": "python",
   "name": "tensor01"
  },
  "language_info": {
   "codemirror_mode": {
    "name": "ipython",
    "version": 3
   },
   "file_extension": ".py",
   "mimetype": "text/x-python",
   "name": "python",
   "nbconvert_exporter": "python",
   "pygments_lexer": "ipython3",
   "version": "3.9.7"
  },
  "varInspector": {
   "cols": {
    "lenName": 16,
    "lenType": 16,
    "lenVar": 40
   },
   "kernels_config": {
    "python": {
     "delete_cmd_postfix": "",
     "delete_cmd_prefix": "del ",
     "library": "var_list.py",
     "varRefreshCmd": "print(var_dic_list())"
    },
    "r": {
     "delete_cmd_postfix": ") ",
     "delete_cmd_prefix": "rm(",
     "library": "var_list.r",
     "varRefreshCmd": "cat(var_dic_list()) "
    }
   },
   "types_to_exclude": [
    "module",
    "function",
    "builtin_function_or_method",
    "instance",
    "_Feature"
   ],
   "window_display": false
  }
 },
 "nbformat": 4,
 "nbformat_minor": 5
}
